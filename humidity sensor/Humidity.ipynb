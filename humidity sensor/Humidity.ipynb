{
 "cells": [
  {
   "cell_type": "markdown",
   "id": "5e2982c7",
   "metadata": {},
   "source": [
    "# Charakteryzacja czujników Wilgotności"
   ]
  },
  {
   "cell_type": "markdown",
   "id": "1a459806",
   "metadata": {},
   "source": [
    "## Podczas ćwiczenia użyte zostały następujące czujniki:\n",
    "\n",
    "<table><tr>\n",
    "<td><img src=\"images\\h1.jpg\" alt=\"Drawing\" style=\"width: 400px; height: 350px;\"/></td>\n",
    "<td><img src=\"images\\h7.jpg\" alt=\"Drawing\" style=\"width: 400px; height: 350px;\"/></td>    \n",
    "</tr></table>\n",
    "\n",
    "###   Impedancyjny czujnik wilgotności  Hs12SP-  to czujnik wilgotności względnej (RH) o dużej rezystancji, zapewniający zmienną wartość impedancji w odpowiedzi na zaadsorbowaną wodę w cienkowarstwowym polimerze czujnika. Nałożone na ułożoną elektrodę chemiczne grupy funkcyjne polimeru rozkładają się w obecności wody na grupy jonowe, zwiększając przewodność elektryczną czujnika. \n",
    "\n",
    "<table><tr>\n",
    "<td><img src=\"images\\h6.jpg\" alt=\"Drawing\" style=\"width: 400px; height: 350px;\"/></td>\n",
    "<td><img src=\"images\\h8.jpg\" alt=\"Drawing\" style=\"width: 400px; height: 350px;\"/></td>    \n",
    "</tr></table>\n",
    "\n",
    "###   Pojemnościowy czujnik wilgotności  Hs1101-  to kondensator, w którym pomiędzy okładkami znajduje się porowaty polimer. Para wodna absorbując się w porach powoduje wzrost pojemności elektrycznej kondensatora. Multimetr mierzy pojemność za pomocą mostka RLC, źródło sygnału o znanej częstotliwości poprzez wewnętrzny rezystor pobudza dołączony szeregowo kondensator. Prąd przemienny płynący przez kondensator, płynie również przez rezystor wymuszając na nim spadek napięcia. Zmierzenie i porównanie tego napięcia z orginalnym sygnałem pozwala obliczyć pojemność.\n",
    "\n",
    "\n"
   ]
  },
  {
   "cell_type": "markdown",
   "id": "bde30605",
   "metadata": {},
   "source": [
    "## Pomiary zostały wykonane przy pomocy multimetru w trybie pomiaru pojemności. Do każdej z kolb o poszczególnych atmosferach wkładano czujnik pojemnościowy a następnie impedancyjny i odczytano pomiary. Temperatura oraz ciśnienie atmosferyczne w laboratorium zmierzono za pomocą termohigrometru.\n",
    "\n",
    "<table><tr>\n",
    "<td><img src=\"images\\h4.jpg\" alt=\"Drawing\" style=\"width: 450px; height: 400px;\"/></td>\n",
    "<td><img src=\"images\\h3.jpg\" alt=\"Drawing\" style=\"width: 450px; height: 400px;\"/></td>    \n",
    "</tr></table>\n",
    "\n",
    "<table><tr>\n",
    "<td><img src=\"images\\h2.jpg\" alt=\"Drawing\" style=\"width: 450px; height: 400px;\"/></td>\n",
    "<td><img src=\"images\\h9.jpg\" alt=\"Drawing\" style=\"width: 450px; height: 400px;\"/></td>    \n",
    "</tr></table>"
   ]
  },
  {
   "cell_type": "code",
   "execution_count": 1,
   "id": "2a4441dd",
   "metadata": {},
   "outputs": [
    {
     "data": {
      "text/html": [
       "<div>\n",
       "<style scoped>\n",
       "    .dataframe tbody tr th:only-of-type {\n",
       "        vertical-align: middle;\n",
       "    }\n",
       "\n",
       "    .dataframe tbody tr th {\n",
       "        vertical-align: top;\n",
       "    }\n",
       "\n",
       "    .dataframe thead th {\n",
       "        text-align: right;\n",
       "    }\n",
       "</style>\n",
       "<table border=\"1\" class=\"dataframe\">\n",
       "  <thead>\n",
       "    <tr style=\"text-align: right;\">\n",
       "      <th></th>\n",
       "      <th>Atmosfera</th>\n",
       "      <th>RH (teoretyczne)[%]</th>\n",
       "      <th>Pojemność Hs1101 [nF]</th>\n",
       "      <th>Pojemność Hs12SP [nF]</th>\n",
       "    </tr>\n",
       "  </thead>\n",
       "  <tbody>\n",
       "    <tr>\n",
       "      <th>0</th>\n",
       "      <td>otoczenie</td>\n",
       "      <td>-</td>\n",
       "      <td>0.170</td>\n",
       "      <td>0.107</td>\n",
       "    </tr>\n",
       "    <tr>\n",
       "      <th>1</th>\n",
       "      <td>LiCl</td>\n",
       "      <td>11</td>\n",
       "      <td>0.164</td>\n",
       "      <td>0.007</td>\n",
       "    </tr>\n",
       "    <tr>\n",
       "      <th>2</th>\n",
       "      <td>MgCl</td>\n",
       "      <td>36</td>\n",
       "      <td>0.169</td>\n",
       "      <td>0.074</td>\n",
       "    </tr>\n",
       "    <tr>\n",
       "      <th>3</th>\n",
       "      <td>Mg(NO)</td>\n",
       "      <td>55</td>\n",
       "      <td>0.172</td>\n",
       "      <td>0.832</td>\n",
       "    </tr>\n",
       "    <tr>\n",
       "      <th>4</th>\n",
       "      <td>NaCl</td>\n",
       "      <td>75</td>\n",
       "      <td>0.177</td>\n",
       "      <td>4.63</td>\n",
       "    </tr>\n",
       "    <tr>\n",
       "      <th>5</th>\n",
       "      <td>KCI</td>\n",
       "      <td>85</td>\n",
       "      <td>0.182</td>\n",
       "      <td>-</td>\n",
       "    </tr>\n",
       "  </tbody>\n",
       "</table>\n",
       "</div>"
      ],
      "text/plain": [
       "   Atmosfera RH (teoretyczne)[%]  Pojemność Hs1101 [nF] Pojemność Hs12SP [nF]\n",
       "0  otoczenie                   -                  0.170                 0.107\n",
       "1       LiCl                  11                  0.164                 0.007\n",
       "2       MgCl                  36                  0.169                 0.074\n",
       "3     Mg(NO)                  55                  0.172                 0.832\n",
       "4       NaCl                  75                  0.177                  4.63\n",
       "5        KCI                  85                  0.182                     -"
      ]
     },
     "metadata": {},
     "output_type": "display_data"
    }
   ],
   "source": [
    "import pandas as pd\n",
    "import matplotlib.pyplot as plt\n",
    "import numpy as np\n",
    "\n",
    "# utworzenie df z pomiarów spisanych w trakcie ćwiczenia\n",
    "\n",
    "dict = {'Atmosfera' : ['otoczenie','LiCl', 'MgCl', 'Mg(NO)', 'NaCl', 'KCI'],\n",
    "        \n",
    "        'RH (teoretyczne)[%]' : ['-', 11,  36, 55, 75, 85],\n",
    "        'Pojemność Hs1101 [nF]' : [0.17, 0.164, 0.169, 0.172, 0.177, 0.182],\n",
    "        'Pojemność Hs12SP [nF]' : [0.107, 0.007, 0.074, 0.832, 4.63, '-'],\n",
    "        }\n",
    "dane = pd.DataFrame(dict)\n",
    "\n",
    "display(dane)"
   ]
  },
  {
   "cell_type": "markdown",
   "id": "957c6602",
   "metadata": {},
   "source": [
    "#### Temperatura  w laboratorium\n",
    "T = 22,5℃"
   ]
  },
  {
   "cell_type": "markdown",
   "id": "480567f5",
   "metadata": {},
   "source": [
    "#### Korekcja Wilgotności względnej (RH) atmosfer dla temperatury panującej w laboratorium\n",
    "<img src=\"images\\h11.jpg\" alt=\"Drawing\" style=\"width: 700px; height: 350px;\"/>"
   ]
  },
  {
   "cell_type": "code",
   "execution_count": 2,
   "id": "73822b4b",
   "metadata": {},
   "outputs": [],
   "source": [
    "dane[\"RH skorygowane[%]\"] = [\"-\",((11.31+11.30)/2),((33.07+32.78)/2),((54.38+52.89)/2),((75.47+75.29)/2),((85.11+84.34)/2)]"
   ]
  },
  {
   "cell_type": "code",
   "execution_count": 3,
   "id": "7ed7d02e",
   "metadata": {},
   "outputs": [],
   "source": [
    "# ustawienie kolumn w poprawny sposób\n",
    "dane = dane[['Atmosfera','RH (teoretyczne)[%]','RH skorygowane[%]','Pojemność Hs1101 [nF]','Pojemność Hs12SP [nF]']]"
   ]
  },
  {
   "cell_type": "code",
   "execution_count": 4,
   "id": "455f1944",
   "metadata": {},
   "outputs": [
    {
     "data": {
      "text/html": [
       "<div>\n",
       "<style scoped>\n",
       "    .dataframe tbody tr th:only-of-type {\n",
       "        vertical-align: middle;\n",
       "    }\n",
       "\n",
       "    .dataframe tbody tr th {\n",
       "        vertical-align: top;\n",
       "    }\n",
       "\n",
       "    .dataframe thead th {\n",
       "        text-align: right;\n",
       "    }\n",
       "</style>\n",
       "<table border=\"1\" class=\"dataframe\">\n",
       "  <thead>\n",
       "    <tr style=\"text-align: right;\">\n",
       "      <th></th>\n",
       "      <th>Atmosfera</th>\n",
       "      <th>RH (teoretyczne)[%]</th>\n",
       "      <th>RH skorygowane[%]</th>\n",
       "      <th>Pojemność Hs1101 [nF]</th>\n",
       "      <th>Pojemność Hs12SP [nF]</th>\n",
       "    </tr>\n",
       "  </thead>\n",
       "  <tbody>\n",
       "    <tr>\n",
       "      <th>0</th>\n",
       "      <td>otoczenie</td>\n",
       "      <td>-</td>\n",
       "      <td>-</td>\n",
       "      <td>0.170</td>\n",
       "      <td>0.107</td>\n",
       "    </tr>\n",
       "    <tr>\n",
       "      <th>1</th>\n",
       "      <td>LiCl</td>\n",
       "      <td>11</td>\n",
       "      <td>11.305</td>\n",
       "      <td>0.164</td>\n",
       "      <td>0.007</td>\n",
       "    </tr>\n",
       "    <tr>\n",
       "      <th>2</th>\n",
       "      <td>MgCl</td>\n",
       "      <td>36</td>\n",
       "      <td>32.925</td>\n",
       "      <td>0.169</td>\n",
       "      <td>0.074</td>\n",
       "    </tr>\n",
       "    <tr>\n",
       "      <th>3</th>\n",
       "      <td>Mg(NO)</td>\n",
       "      <td>55</td>\n",
       "      <td>53.635</td>\n",
       "      <td>0.172</td>\n",
       "      <td>0.832</td>\n",
       "    </tr>\n",
       "    <tr>\n",
       "      <th>4</th>\n",
       "      <td>NaCl</td>\n",
       "      <td>75</td>\n",
       "      <td>75.38</td>\n",
       "      <td>0.177</td>\n",
       "      <td>4.63</td>\n",
       "    </tr>\n",
       "    <tr>\n",
       "      <th>5</th>\n",
       "      <td>KCI</td>\n",
       "      <td>85</td>\n",
       "      <td>84.725</td>\n",
       "      <td>0.182</td>\n",
       "      <td>-</td>\n",
       "    </tr>\n",
       "  </tbody>\n",
       "</table>\n",
       "</div>"
      ],
      "text/plain": [
       "   Atmosfera RH (teoretyczne)[%] RH skorygowane[%]  Pojemność Hs1101 [nF]  \\\n",
       "0  otoczenie                   -                 -                  0.170   \n",
       "1       LiCl                  11            11.305                  0.164   \n",
       "2       MgCl                  36            32.925                  0.169   \n",
       "3     Mg(NO)                  55            53.635                  0.172   \n",
       "4       NaCl                  75             75.38                  0.177   \n",
       "5        KCI                  85            84.725                  0.182   \n",
       "\n",
       "  Pojemność Hs12SP [nF]  \n",
       "0                 0.107  \n",
       "1                 0.007  \n",
       "2                 0.074  \n",
       "3                 0.832  \n",
       "4                  4.63  \n",
       "5                     -  "
      ]
     },
     "execution_count": 4,
     "metadata": {},
     "output_type": "execute_result"
    }
   ],
   "source": [
    "dane"
   ]
  },
  {
   "cell_type": "markdown",
   "id": "bfcb8b4e",
   "metadata": {},
   "source": [
    "***\n",
    "$\\mathbf{\\text{Obliczenie pary nasyconej:}}$<br>\n",
    "\n",
    "***\n",
    "Równanie Ardena Bucka\n",
    "$$\n",
    "  p_n = 0,61121 * exp((18,678-\\frac{T}{234,5})(\\frac{T}{257,14+T}))\n",
    "$$ \n",
    "$p_n$ – ciśnienie pary nasyconej w kPa <br>\n",
    "T – temperatura w ℃ <br>\n",
    "\n",
    "$$\n",
    "  p_n = 0,61121 * exp((18,678-\\frac{22,5}{234,5})(\\frac{22,5}{257,14+22,5})) = 2,72[kPa] = 2720[Pa]\n",
    "$$ "
   ]
  },
  {
   "cell_type": "markdown",
   "id": "d14f069a",
   "metadata": {},
   "source": [
    "***\n",
    "$\\mathbf{\\text{Przykładowe obliczenia ciśnienia cząstkowego pary wodnej:}}$<br>\n",
    "\n",
    "***\n",
    "\n",
    "$$\n",
    "  p_w = \\frac{RH}{100%}*p_n\n",
    "$$ \n",
    "Dla LiCl:\n",
    "$$\n",
    "  p_w = \\frac{11,305}{100%}*2,72 = 0,307 [kPa]\n",
    "$$ \n",
    "\n",
    "Dla NaCl:\n",
    "$$\n",
    "  p_w = \\frac{75,38}{100%}*2,72 = 2,05 [kPa]\n",
    "$$ "
   ]
  },
  {
   "cell_type": "markdown",
   "id": "909743de",
   "metadata": {},
   "source": [
    "## 1.Określanie wilgotności otoczenia dla czujników"
   ]
  },
  {
   "cell_type": "code",
   "execution_count": 14,
   "id": "3053af91",
   "metadata": {},
   "outputs": [
    {
     "data": {
      "image/png": "[encoded data removed]",
      "text/plain": [
       "<Figure size 640x480 with 1 Axes>"
      ]
     },
     "metadata": {},
     "output_type": "display_data"
    }
   ],
   "source": [
    "# wykres C(RH) dla czujnika Hs1101 i regresja liniowa pozwalająca obliczyć przypuszczalną wilgotność w pomieszczeniu\n",
    "\n",
    "x = dane.loc[1:5]['RH skorygowane[%]']\n",
    "y = dane.loc[1:5]['Pojemność Hs1101 [nF]']\n",
    "\n",
    "plt.xlabel('RH skorygowane[%]', fontsize = 15)\n",
    "plt.ylabel('C[nf]', fontsize = 15)\n",
    "plt.xlim(5,90)\n",
    "plt.scatter(x, y, alpha=0.5)\n",
    "\n",
    "x1 = np.asarray(dane.loc[1:5]['RH skorygowane[%]'], dtype='float')\n",
    "\n",
    "y1 = np.asarray(dane.loc[1:5]['Pojemność Hs1101 [nF]'], dtype='float')\n",
    "\n",
    "m, b = np.polyfit(x1, y1, 1)\n",
    "\n",
    "plt.plot(x1, m*x1+b, color='red')\n",
    "\n",
    "plt.title(f'C(RH) dla Hs1101, slope = {round(m, 4)}, intercept = {round(b, 4)}')\n",
    "\n",
    "plt.show()"
   ]
  },
  {
   "cell_type": "markdown",
   "id": "74695eef",
   "metadata": {},
   "source": [
    "***\n",
    "$\\mathbf{\\text{Wilgotność RH otoczenia określona dla czujnika pojemnościowego Hs1101:}}$<br>\n",
    "\n",
    "***\n",
    "#pomiar czujnika dla otoczenia 0,17[nF]\n",
    "\n",
    "$$\n",
    "  y = 0,0002x + 0,1611\n",
    "$$ \n",
    "$$ \n",
    "0,17 = 0,0002x + 0,1611\n",
    "$$ \n",
    "$$\n",
    "x = 44,5{%}\n",
    "$$"
   ]
  },
  {
   "cell_type": "markdown",
   "id": "c7cd7874",
   "metadata": {},
   "source": []
  }
 ],
 "metadata": {
  "kernelspec": {
   "display_name": "Python 3 (ipykernel)",
   "language": "python",
   "name": "python3"
  },
  "language_info": {
   "codemirror_mode": {
    "name": "ipython",
    "version": 3
   },
   "file_extension": ".py",
   "mimetype": "text/x-python",
   "name": "python",
   "nbconvert_exporter": "python",
   "pygments_lexer": "ipython3",
   "version": "3.10.5"
  }
 },
 "nbformat": 4,
 "nbformat_minor": 5
}
